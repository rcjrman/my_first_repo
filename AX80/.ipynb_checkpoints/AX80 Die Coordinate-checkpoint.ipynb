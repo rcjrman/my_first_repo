{
 "cells": [
  {
   "cell_type": "code",
   "execution_count": 6,
   "metadata": {
    "collapsed": false
   },
   "outputs": [],
   "source": [
    "import pandas as pd\n",
    "import glob\n",
    "import Tkinter as Tk\n",
    "import tkFileDialog"
   ]
  },
  {
   "cell_type": "code",
   "execution_count": 7,
   "metadata": {
    "collapsed": true
   },
   "outputs": [],
   "source": [
    "def browse_file():\n",
    "    root = Tk.Tk()\n",
    "    fname = tkFileDialog.askdirectory()\n",
    "    root.destroy()\n",
    "    return fname"
   ]
  },
  {
   "cell_type": "code",
   "execution_count": 8,
   "metadata": {
    "collapsed": false
   },
   "outputs": [],
   "source": [
    "# Look through a directory and save all the csv files in a list\n",
    "path = browse_file()\n",
    "path += '/'\n",
    "my_file = glob.glob(path + 'Format*.csv')"
   ]
  },
  {
   "cell_type": "code",
   "execution_count": 9,
   "metadata": {
    "collapsed": false
   },
   "outputs": [
    {
     "name": "stdout",
     "output_type": "stream",
     "text": [
      "Formatted_HBKK9A026AA_PST_BUMP_12292016_012937_TERUFLEX091_WAFER1.std.gextb.std.gextb.csv\n",
      "finished\n"
     ]
    }
   ],
   "source": [
    "output_file = 'final_file.csv'\n",
    "result = pd.DataFrame()\n",
    "for entry in my_file:\n",
    "    ################################################################################\n",
    "    #Have a problem with the path that's used in my_file.  Has / and \\.  This \n",
    "    #messes up pandas read_csv.  So I strip the file name and manually add it \n",
    "    #back with the path to fix this.  I don't understand it or have the time \n",
    "    #to figure it out. \n",
    "    ################################################################################\n",
    "    \n",
    "    file_name = entry[len(path):] #strip the path \n",
    "    print file_name\n",
    "    \n",
    "    my_path = path + file_name   #add the path back with proper formatting.\n",
    "    \n",
    "    my_df = pd.read_csv(my_path)  \n",
    "    my_df = my_df.fillna(-9999)  #fill all empty spaces with -9999\n",
    "    \n",
    "    a = my_df[(my_df['DIE_X']==-99) & (my_df['DIE_Y']==29)]\n",
    "    b = my_df[(my_df['DIE_X']==-98) & (my_df['DIE_Y']==26)]\n",
    "\n",
    "    result = result.append(a)\n",
    "    result = result.append(b)\n",
    "    \n",
    "result.to_csv(output_file)\n",
    "print \"finished\""
   ]
  },
  {
   "cell_type": "code",
   "execution_count": null,
   "metadata": {
    "collapsed": true
   },
   "outputs": [],
   "source": []
  }
 ],
 "metadata": {
  "kernelspec": {
   "display_name": "Python 2",
   "language": "python",
   "name": "python2"
  },
  "language_info": {
   "codemirror_mode": {
    "name": "ipython",
    "version": 2
   },
   "file_extension": ".py",
   "mimetype": "text/x-python",
   "name": "python",
   "nbconvert_exporter": "python",
   "pygments_lexer": "ipython2",
   "version": "2.7.13"
  }
 },
 "nbformat": 4,
 "nbformat_minor": 2
}
