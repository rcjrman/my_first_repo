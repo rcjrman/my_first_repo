{
 "cells": [
  {
   "cell_type": "code",
   "execution_count": 105,
   "metadata": {
    "collapsed": false
   },
   "outputs": [
    {
     "name": "stdout",
     "output_type": "stream",
     "text": [
      "          A         B         C\n",
      "0 -0.485411  1.779982  0.264710\n",
      "1 -0.748583  0.585372  0.175153\n",
      "2  0.324866 -1.345469 -0.094793\n",
      "3 -1.844300 -0.369252  0.766790\n",
      "4  0.475629 -0.424034  1.223641\n",
      "5  2.217760  1.351454 -0.672208\n",
      "6  0.336121  0.149488  1.643870\n",
      "7  0.146909 -0.731763 -0.643913\n",
      "8 -1.622560  0.192459  1.458735\n",
      "9  0.101350  1.923659  1.569085\n"
     ]
    }
   ],
   "source": [
    "import pandas as pd\n",
    "import numpy as np\n",
    "from scipy import stats\n",
    "\n",
    "# Create dummy dataframe\n",
    "df = pd.DataFrame(np.random.randn(10,3), columns=list('ABC'))\n",
    "print df"
   ]
  },
  {
   "cell_type": "code",
   "execution_count": 106,
   "metadata": {
    "collapsed": false
   },
   "outputs": [
    {
     "name": "stdout",
     "output_type": "stream",
     "text": [
      "          A         B         C         D\n",
      "0 -0.485411  1.779982  0.264710  0.264710\n",
      "1 -0.748583  0.585372  0.175153  0.175153\n",
      "2  0.324866 -1.345469 -0.094793 -0.094793\n",
      "3 -1.844300 -0.369252  0.766790  0.766790\n",
      "4  0.475629 -0.424034  1.223641  1.223641\n",
      "5  2.217760  1.351454 -0.672208 -0.672208\n",
      "6  0.336121  0.149488  1.643870  1.643870\n",
      "7  0.146909 -0.731763 -0.643913 -0.643913\n",
      "8 -1.622560  0.192459  1.458735  1.458735\n",
      "9  0.101350  1.923659  1.569085  1.569085\n"
     ]
    }
   ],
   "source": [
    "# copy a column so we have one untouched column\n",
    "df['D'] = df['C']\n",
    "print df"
   ]
  },
  {
   "cell_type": "code",
   "execution_count": 68,
   "metadata": {
    "collapsed": false,
    "scrolled": true
   },
   "outputs": [
    {
     "name": "stdout",
     "output_type": "stream",
     "text": [
      "          A         B         C         D\n",
      "0       NaN  1.484082  0.724668  0.724668\n",
      "1 -1.287107  0.624174  1.229390  1.229390\n",
      "2  0.332089       NaN -0.401652 -0.401652\n",
      "3  0.192129 -1.191247  1.304241  1.304241\n",
      "4 -1.008701  0.683243  0.674695  0.674695\n",
      "5 -0.548580  0.753986 -0.635863 -0.635863\n",
      "6  0.988166 -0.103369       NaN  0.210190\n",
      "7 -1.336377 -1.071787  0.305901  0.305901\n",
      "8  0.202379  0.352954 -0.553086 -0.553086\n",
      "9 -0.344860 -0.630883 -0.258813 -0.258813\n"
     ]
    }
   ],
   "source": [
    "# add some NaN to make sure math is working\n",
    "df.iat[0,0] = np.nan\n",
    "df.iat[2,1] = np.nan\n",
    "df.iat[6,2] = np.nan\n",
    "print df"
   ]
  },
  {
   "cell_type": "code",
   "execution_count": 69,
   "metadata": {
    "collapsed": false,
    "scrolled": true
   },
   "outputs": [
    {
     "data": {
      "text/html": [
       "<div>\n",
       "<table border=\"1\" class=\"dataframe\">\n",
       "  <thead>\n",
       "    <tr style=\"text-align: right;\">\n",
       "      <th></th>\n",
       "      <th>A</th>\n",
       "      <th>B</th>\n",
       "      <th>C</th>\n",
       "      <th>D</th>\n",
       "    </tr>\n",
       "  </thead>\n",
       "  <tbody>\n",
       "    <tr>\n",
       "      <th>count</th>\n",
       "      <td>9.000000</td>\n",
       "      <td>9.000000</td>\n",
       "      <td>9.000000</td>\n",
       "      <td>10.000000</td>\n",
       "    </tr>\n",
       "    <tr>\n",
       "      <th>mean</th>\n",
       "      <td>-0.312318</td>\n",
       "      <td>0.100128</td>\n",
       "      <td>0.265498</td>\n",
       "      <td>0.259967</td>\n",
       "    </tr>\n",
       "    <tr>\n",
       "      <th>std</th>\n",
       "      <td>0.803635</td>\n",
       "      <td>0.910923</td>\n",
       "      <td>0.757505</td>\n",
       "      <td>0.714397</td>\n",
       "    </tr>\n",
       "    <tr>\n",
       "      <th>min</th>\n",
       "      <td>-1.336377</td>\n",
       "      <td>-1.191247</td>\n",
       "      <td>-0.635863</td>\n",
       "      <td>-0.635863</td>\n",
       "    </tr>\n",
       "    <tr>\n",
       "      <th>25%</th>\n",
       "      <td>-1.008701</td>\n",
       "      <td>-0.630883</td>\n",
       "      <td>-0.401652</td>\n",
       "      <td>-0.365942</td>\n",
       "    </tr>\n",
       "    <tr>\n",
       "      <th>50%</th>\n",
       "      <td>-0.344860</td>\n",
       "      <td>0.352954</td>\n",
       "      <td>0.305901</td>\n",
       "      <td>0.258046</td>\n",
       "    </tr>\n",
       "    <tr>\n",
       "      <th>75%</th>\n",
       "      <td>0.202379</td>\n",
       "      <td>0.683243</td>\n",
       "      <td>0.724668</td>\n",
       "      <td>0.712175</td>\n",
       "    </tr>\n",
       "    <tr>\n",
       "      <th>max</th>\n",
       "      <td>0.988166</td>\n",
       "      <td>1.484082</td>\n",
       "      <td>1.304241</td>\n",
       "      <td>1.304241</td>\n",
       "    </tr>\n",
       "  </tbody>\n",
       "</table>\n",
       "</div>"
      ],
      "text/plain": [
       "              A         B         C          D\n",
       "count  9.000000  9.000000  9.000000  10.000000\n",
       "mean  -0.312318  0.100128  0.265498   0.259967\n",
       "std    0.803635  0.910923  0.757505   0.714397\n",
       "min   -1.336377 -1.191247 -0.635863  -0.635863\n",
       "25%   -1.008701 -0.630883 -0.401652  -0.365942\n",
       "50%   -0.344860  0.352954  0.305901   0.258046\n",
       "75%    0.202379  0.683243  0.724668   0.712175\n",
       "max    0.988166  1.484082  1.304241   1.304241"
      ]
     },
     "execution_count": 69,
     "metadata": {},
     "output_type": "execute_result"
    }
   ],
   "source": [
    "# look at stats for this\n",
    "df.describe()"
   ]
  },
  {
   "cell_type": "code",
   "execution_count": 70,
   "metadata": {
    "collapsed": false,
    "scrolled": true
   },
   "outputs": [
    {
     "name": "stdout",
     "output_type": "stream",
     "text": [
      "          A         B         C         D  A_zscore  B_zscore  C_zscore  \\\n",
      "0       NaN  1.484082  0.724668  0.724668       NaN  1.611447  0.642931   \n",
      "1 -1.287107  0.624174  1.229390  1.229390 -1.286553  0.610189  1.349644   \n",
      "2  0.332089       NaN -0.401652 -0.401652  0.850506       NaN -0.934145   \n",
      "3  0.192129 -1.191247  1.304241  1.304241  0.665783 -1.503651  1.454451   \n",
      "4 -1.008701  0.683243  0.674695  0.674695 -0.919106  0.678967  0.572959   \n",
      "5 -0.548580  0.753986 -0.635863 -0.635863 -0.311826  0.761338 -1.262088   \n",
      "6  0.988166 -0.103369       NaN  0.210190  1.716415 -0.236948       NaN   \n",
      "7 -1.336377 -1.071787  0.305901  0.305901 -1.351582 -1.364554  0.056573   \n",
      "8  0.202379  0.352954 -0.553086 -0.553086  0.679311  0.294386 -1.146183   \n",
      "9 -0.344860 -0.630883 -0.258813 -0.258813 -0.042950 -0.851174 -0.734141   \n",
      "\n",
      "   D_zscore  \n",
      "0  0.685666  \n",
      "1  1.430384  \n",
      "2 -0.976219  \n",
      "3  1.540827  \n",
      "4  0.611931  \n",
      "5 -1.321798  \n",
      "6 -0.073446  \n",
      "7  0.067776  \n",
      "8 -1.199660  \n",
      "9 -0.765460  \n"
     ]
    }
   ],
   "source": [
    "# compute zscores\n",
    "#print stats.zscore(df)\n",
    "\n",
    "cols = list(df.columns)\n",
    "for col in cols:\n",
    "    col_zscore = col + '_zscore' #add a new column\n",
    "    df[col_zscore] = (df[col]-df[col].mean())/df[col].std(ddof=0)\n",
    "print df"
   ]
  },
  {
   "cell_type": "code",
   "execution_count": 104,
   "metadata": {
    "collapsed": false,
    "scrolled": false
   },
   "outputs": [
    {
     "name": "stdout",
     "output_type": "stream",
     "text": [
      "Row 0, Min Zscore  0.643, Max Zscore  1.611\n",
      "Row 1, Min Zscore -1.287, Max Zscore  1.430\n",
      "Row 2, Min Zscore -0.976, Max Zscore  0.851\n",
      "Row 3, Min Zscore -1.504, Max Zscore  1.541\n",
      "Row 4, Min Zscore -0.919, Max Zscore  0.679\n",
      "Row 5, Min Zscore -1.322, Max Zscore  0.761\n",
      "Row 6, Min Zscore -0.237, Max Zscore  1.716\n",
      "Row 7, Min Zscore -1.365, Max Zscore  0.068\n",
      "Row 8, Min Zscore -1.200, Max Zscore  0.679\n",
      "Row 9, Min Zscore -0.851, Max Zscore -0.043\n"
     ]
    }
   ],
   "source": [
    "# check for the min / max zscores for a given row\n",
    "for index, row in df.iterrows():\n",
    "    print \"Row {}, Min Zscore {: 1.3f}, Max Zscore {: 1.3f}\".format(index,row[4:].min(),row[4:].max())\n",
    "# Used this to print one line    \n",
    "#row = 6    \n",
    "#print df.iloc[row,4:].min(), df.iloc[row,4:].max()"
   ]
  },
  {
   "cell_type": "code",
   "execution_count": 107,
   "metadata": {
    "collapsed": false
   },
   "outputs": [
    {
     "name": "stdout",
     "output_type": "stream",
     "text": [
      "          A         B         C         D\n",
      "0 -0.485411  1.779982  0.264710  0.264710\n",
      "1 -0.748583  0.585372  0.175153  0.175153\n",
      "2  0.324866 -1.345469 -0.094793 -0.094793\n",
      "3 -1.844300 -0.369252  0.766790  0.766790\n",
      "4  0.475629 -0.424034  1.223641  1.223641\n",
      "5  2.217760  1.351454 -0.672208 -0.672208\n",
      "6  0.336121  0.149488  1.643870  1.643870\n",
      "7  0.146909 -0.731763 -0.643913 -0.643913\n",
      "8 -1.622560  0.192459  1.458735  1.458735\n",
      "9  0.101350  1.923659  1.569085  1.569085\n"
     ]
    }
   ],
   "source": [
    "print df"
   ]
  },
  {
   "cell_type": "code",
   "execution_count": 138,
   "metadata": {
    "collapsed": false
   },
   "outputs": [
    {
     "name": "stdout",
     "output_type": "stream",
     "text": [
      "Method one = B\n",
      "0.585371755535\n",
      "Method two = B\n"
     ]
    }
   ],
   "source": [
    "# assuming you know the index this will find the column of the max value for that index\n",
    "print \"Method one = {}\".format(df.iloc[1].idxmax())\n",
    "\n",
    "a = df.iloc[1].max()\n",
    "print a\n",
    "\n",
    "cols = list(df.columns)\n",
    "for col in cols:\n",
    "    if a == df[col][1]:\n",
    "        print \"Method two = {}\".format(col)\n"
   ]
  },
  {
   "cell_type": "code",
   "execution_count": null,
   "metadata": {
    "collapsed": true
   },
   "outputs": [],
   "source": []
  }
 ],
 "metadata": {
  "kernelspec": {
   "display_name": "Python 2",
   "language": "python",
   "name": "python2"
  },
  "language_info": {
   "codemirror_mode": {
    "name": "ipython",
    "version": 2
   },
   "file_extension": ".py",
   "mimetype": "text/x-python",
   "name": "python",
   "nbconvert_exporter": "python",
   "pygments_lexer": "ipython2",
   "version": "2.7.13"
  }
 },
 "nbformat": 4,
 "nbformat_minor": 2
}
