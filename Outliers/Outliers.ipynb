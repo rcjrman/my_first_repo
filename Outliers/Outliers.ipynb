{
 "cells": [
  {
   "cell_type": "code",
   "execution_count": 139,
   "metadata": {
    "collapsed": false
   },
   "outputs": [
    {
     "name": "stdout",
     "output_type": "stream",
     "text": [
      "          A         B         C\n",
      "0  0.161424 -0.984434  2.072497\n",
      "1 -1.398740 -0.414433  1.487164\n",
      "2 -1.581128 -0.195313 -1.453342\n",
      "3  0.794405 -0.333994  0.807954\n",
      "4  0.204318 -1.402578  0.036992\n",
      "5  0.373276 -1.038533  1.801321\n",
      "6  1.065953  0.950969  1.512732\n",
      "7  2.514518 -0.692301 -0.665640\n",
      "8 -1.196454  0.512546 -0.178689\n",
      "9 -0.014218  0.800052  1.093918\n"
     ]
    }
   ],
   "source": [
    "import pandas as pd\n",
    "import numpy as np\n",
    "from scipy import stats\n",
    "\n",
    "# Create dummy dataframe\n",
    "df = pd.DataFrame(np.random.randn(10,3), columns=list('ABC'))\n",
    "print df"
   ]
  },
  {
   "cell_type": "code",
   "execution_count": 140,
   "metadata": {
    "collapsed": false
   },
   "outputs": [
    {
     "name": "stdout",
     "output_type": "stream",
     "text": [
      "          A         B         C         D\n",
      "0  0.161424 -0.984434  2.072497  2.072497\n",
      "1 -1.398740 -0.414433  1.487164  1.487164\n",
      "2 -1.581128 -0.195313 -1.453342 -1.453342\n",
      "3  0.794405 -0.333994  0.807954  0.807954\n",
      "4  0.204318 -1.402578  0.036992  0.036992\n",
      "5  0.373276 -1.038533  1.801321  1.801321\n",
      "6  1.065953  0.950969  1.512732  1.512732\n",
      "7  2.514518 -0.692301 -0.665640 -0.665640\n",
      "8 -1.196454  0.512546 -0.178689 -0.178689\n",
      "9 -0.014218  0.800052  1.093918  1.093918\n"
     ]
    }
   ],
   "source": [
    "# copy a column so we have one untouched column\n",
    "df['D'] = df['C']\n",
    "print df"
   ]
  },
  {
   "cell_type": "code",
   "execution_count": 141,
   "metadata": {
    "collapsed": false,
    "scrolled": true
   },
   "outputs": [
    {
     "name": "stdout",
     "output_type": "stream",
     "text": [
      "          A         B         C         D\n",
      "0       NaN -0.984434  2.072497  2.072497\n",
      "1 -1.398740 -0.414433  1.487164  1.487164\n",
      "2 -1.581128       NaN -1.453342 -1.453342\n",
      "3  0.794405 -0.333994  0.807954  0.807954\n",
      "4  0.204318 -1.402578  0.036992  0.036992\n",
      "5  0.373276 -1.038533  1.801321  1.801321\n",
      "6  1.065953  0.950969       NaN  1.512732\n",
      "7  2.514518 -0.692301 -0.665640 -0.665640\n",
      "8 -1.196454  0.512546 -0.178689 -0.178689\n",
      "9 -0.014218  0.800052  1.093918  1.093918\n"
     ]
    }
   ],
   "source": [
    "# add some NaN to make sure math is working\n",
    "df.iat[0,0] = np.nan\n",
    "df.iat[2,1] = np.nan\n",
    "df.iat[6,2] = np.nan\n",
    "print df"
   ]
  },
  {
   "cell_type": "code",
   "execution_count": 142,
   "metadata": {
    "collapsed": false,
    "scrolled": true
   },
   "outputs": [
    {
     "data": {
      "text/html": [
       "<div>\n",
       "<table border=\"1\" class=\"dataframe\">\n",
       "  <thead>\n",
       "    <tr style=\"text-align: right;\">\n",
       "      <th></th>\n",
       "      <th>A</th>\n",
       "      <th>B</th>\n",
       "      <th>C</th>\n",
       "      <th>D</th>\n",
       "    </tr>\n",
       "  </thead>\n",
       "  <tbody>\n",
       "    <tr>\n",
       "      <th>count</th>\n",
       "      <td>9.000000</td>\n",
       "      <td>9.000000</td>\n",
       "      <td>9.000000</td>\n",
       "      <td>10.000000</td>\n",
       "    </tr>\n",
       "    <tr>\n",
       "      <th>mean</th>\n",
       "      <td>0.084659</td>\n",
       "      <td>-0.289190</td>\n",
       "      <td>0.555797</td>\n",
       "      <td>0.651491</td>\n",
       "    </tr>\n",
       "    <tr>\n",
       "      <th>std</th>\n",
       "      <td>1.327350</td>\n",
       "      <td>0.853810</td>\n",
       "      <td>1.194230</td>\n",
       "      <td>1.165887</td>\n",
       "    </tr>\n",
       "    <tr>\n",
       "      <th>min</th>\n",
       "      <td>-1.581128</td>\n",
       "      <td>-1.402578</td>\n",
       "      <td>-1.453342</td>\n",
       "      <td>-1.453342</td>\n",
       "    </tr>\n",
       "    <tr>\n",
       "      <th>25%</th>\n",
       "      <td>-1.196454</td>\n",
       "      <td>-0.984434</td>\n",
       "      <td>-0.178689</td>\n",
       "      <td>-0.124769</td>\n",
       "    </tr>\n",
       "    <tr>\n",
       "      <th>50%</th>\n",
       "      <td>0.204318</td>\n",
       "      <td>-0.414433</td>\n",
       "      <td>0.807954</td>\n",
       "      <td>0.950936</td>\n",
       "    </tr>\n",
       "    <tr>\n",
       "      <th>75%</th>\n",
       "      <td>0.794405</td>\n",
       "      <td>0.512546</td>\n",
       "      <td>1.487164</td>\n",
       "      <td>1.506340</td>\n",
       "    </tr>\n",
       "    <tr>\n",
       "      <th>max</th>\n",
       "      <td>2.514518</td>\n",
       "      <td>0.950969</td>\n",
       "      <td>2.072497</td>\n",
       "      <td>2.072497</td>\n",
       "    </tr>\n",
       "  </tbody>\n",
       "</table>\n",
       "</div>"
      ],
      "text/plain": [
       "              A         B         C          D\n",
       "count  9.000000  9.000000  9.000000  10.000000\n",
       "mean   0.084659 -0.289190  0.555797   0.651491\n",
       "std    1.327350  0.853810  1.194230   1.165887\n",
       "min   -1.581128 -1.402578 -1.453342  -1.453342\n",
       "25%   -1.196454 -0.984434 -0.178689  -0.124769\n",
       "50%    0.204318 -0.414433  0.807954   0.950936\n",
       "75%    0.794405  0.512546  1.487164   1.506340\n",
       "max    2.514518  0.950969  2.072497   2.072497"
      ]
     },
     "execution_count": 142,
     "metadata": {},
     "output_type": "execute_result"
    }
   ],
   "source": [
    "# look at stats for this\n",
    "df.describe()"
   ]
  },
  {
   "cell_type": "code",
   "execution_count": 143,
   "metadata": {
    "collapsed": false,
    "scrolled": true
   },
   "outputs": [
    {
     "name": "stdout",
     "output_type": "stream",
     "text": [
      "          A         B         C         D  A_zscore  B_zscore  C_zscore  \\\n",
      "0       NaN -0.984434  2.072497  2.072497       NaN -0.863679  1.347063   \n",
      "1 -1.398740 -0.414433  1.487164  1.487164 -1.185356 -0.155586  0.827197   \n",
      "2 -1.581128       NaN -1.453342 -1.453342 -1.331099       NaN -1.784425   \n",
      "3  0.794405 -0.333994  0.807954  0.807954  0.567145 -0.055659  0.223954   \n",
      "4  0.204318 -1.402578  0.036992  0.036992  0.095618 -1.383127 -0.460779   \n",
      "5  0.373276 -1.038533  1.801321  1.801321  0.230629 -0.930885  1.106217   \n",
      "6  1.065953  0.950969       NaN  1.512732  0.784134  1.540609       NaN   \n",
      "7  2.514518 -0.692301 -0.665640 -0.665640  1.941655 -0.500772 -1.084825   \n",
      "8 -1.196454  0.512546 -0.178689 -0.178689 -1.023713  0.995970 -0.652337   \n",
      "9 -0.014218  0.800052  1.093918  1.093918 -0.079011  1.353130  0.477934   \n",
      "\n",
      "   D_zscore  \n",
      "0  1.284749  \n",
      "1  0.755542  \n",
      "2 -1.903004  \n",
      "3  0.141461  \n",
      "4 -0.555575  \n",
      "5  1.039575  \n",
      "6  0.778659  \n",
      "7 -1.190834  \n",
      "8 -0.750575  \n",
      "9  0.400004  \n"
     ]
    }
   ],
   "source": [
    "# compute zscores\n",
    "#print stats.zscore(df)\n",
    "\n",
    "cols = list(df.columns)\n",
    "for col in cols:\n",
    "    col_zscore = col + '_zscore' #add a new column\n",
    "    df[col_zscore] = (df[col]-df[col].mean())/df[col].std(ddof=0)\n",
    "print df"
   ]
  },
  {
   "cell_type": "code",
   "execution_count": 144,
   "metadata": {
    "collapsed": false,
    "scrolled": false
   },
   "outputs": [
    {
     "name": "stdout",
     "output_type": "stream",
     "text": [
      "Row 0, Min Zscore -0.864, Max Zscore  1.347\n",
      "Row 1, Min Zscore -1.185, Max Zscore  0.827\n",
      "Row 2, Min Zscore -1.903, Max Zscore -1.331\n",
      "Row 3, Min Zscore -0.056, Max Zscore  0.567\n",
      "Row 4, Min Zscore -1.383, Max Zscore  0.096\n",
      "Row 5, Min Zscore -0.931, Max Zscore  1.106\n",
      "Row 6, Min Zscore  0.779, Max Zscore  1.541\n",
      "Row 7, Min Zscore -1.191, Max Zscore  1.942\n",
      "Row 8, Min Zscore -1.024, Max Zscore  0.996\n",
      "Row 9, Min Zscore -0.079, Max Zscore  1.353\n"
     ]
    }
   ],
   "source": [
    "# check for the min / max zscores for a given row\n",
    "for index, row in df.iterrows():\n",
    "    print \"Row {}, Min Zscore {: 1.3f}, Max Zscore {: 1.3f}\".format(index,row[4:].min(),row[4:].max())\n",
    "# Used this to print one line    \n",
    "#row = 6    \n",
    "#print df.iloc[row,4:].min(), df.iloc[row,4:].max()"
   ]
  },
  {
   "cell_type": "code",
   "execution_count": 148,
   "metadata": {
    "collapsed": false
   },
   "outputs": [
    {
     "name": "stdout",
     "output_type": "stream",
     "text": [
      "Method one = C_zscore\n",
      "0.827196600711\n",
      "Method two = C_zscore\n"
     ]
    }
   ],
   "source": [
    "# assuming you know the index this will find the column of the max value for that index\n",
    "print \"Method one = {}\".format(df.iloc[1,4:].idxmax())\n",
    "\n",
    "a = df.iloc[1,4:].max()\n",
    "print a\n",
    "\n",
    "# this one will find the right answer if you have the same value in two columns\n",
    "cols = list(df.columns)\n",
    "for col in cols:\n",
    "    if a == df[col][1]:\n",
    "        print \"Method two = {}\".format(col)\n"
   ]
  },
  {
   "cell_type": "code",
   "execution_count": 162,
   "metadata": {
    "collapsed": false
   },
   "outputs": [
    {
     "name": "stdout",
     "output_type": "stream",
     "text": [
      "z_score = 0.827196600711 in column C_zscore\n",
      "z_score = 0.755541767874 in column D_zscore\n"
     ]
    }
   ],
   "source": [
    "# print zscores for a given index\n",
    "cols = list(df.columns[4:])\n",
    "index = 1\n",
    "for col in cols:\n",
    "    if df[col][index] > 0.5:\n",
    "        print \"z_score = {} in column {}\".format(df[col][index], col)"
   ]
  },
  {
   "cell_type": "code",
   "execution_count": 163,
   "metadata": {
    "collapsed": false
   },
   "outputs": [
    {
     "name": "stdout",
     "output_type": "stream",
     "text": [
      "   A_zscore  B_zscore  C_zscore  D_zscore\n",
      "0       NaN -0.863679  1.347063  1.284749\n",
      "1 -1.185356 -0.155586  0.827197  0.755542\n",
      "2 -1.331099       NaN -1.784425 -1.903004\n",
      "3  0.567145 -0.055659  0.223954  0.141461\n",
      "4  0.095618 -1.383127 -0.460779 -0.555575\n",
      "5  0.230629 -0.930885  1.106217  1.039575\n",
      "6  0.784134  1.540609       NaN  0.778659\n",
      "7  1.941655 -0.500772 -1.084825 -1.190834\n",
      "8 -1.023713  0.995970 -0.652337 -0.750575\n",
      "9 -0.079011  1.353130  0.477934  0.400004\n"
     ]
    }
   ],
   "source": [
    "print df.iloc[:,4:]"
   ]
  },
  {
   "cell_type": "code",
   "execution_count": 171,
   "metadata": {
    "collapsed": false
   },
   "outputs": [
    {
     "data": {
      "text/plain": [
       "count    9.000000e+00\n",
       "mean     1.233581e-17\n",
       "std      1.060660e+00\n",
       "min     -1.784425e+00\n",
       "25%     -6.523367e-01\n",
       "50%      2.239542e-01\n",
       "75%      8.271966e-01\n",
       "max      1.347063e+00\n",
       "Name: C_zscore, dtype: float64"
      ]
     },
     "execution_count": 171,
     "metadata": {},
     "output_type": "execute_result"
    }
   ],
   "source": [
    "df['C_zscore'].describe()"
   ]
  },
  {
   "cell_type": "code",
   "execution_count": null,
   "metadata": {
    "collapsed": true
   },
   "outputs": [],
   "source": []
  }
 ],
 "metadata": {
  "kernelspec": {
   "display_name": "Python 2",
   "language": "python",
   "name": "python2"
  },
  "language_info": {
   "codemirror_mode": {
    "name": "ipython",
    "version": 2
   },
   "file_extension": ".py",
   "mimetype": "text/x-python",
   "name": "python",
   "nbconvert_exporter": "python",
   "pygments_lexer": "ipython2",
   "version": "2.7.13"
  }
 },
 "nbformat": 4,
 "nbformat_minor": 2
}
